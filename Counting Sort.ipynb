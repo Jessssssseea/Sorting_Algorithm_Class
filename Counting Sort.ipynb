{
 "cells": [
  {
   "cell_type": "code",
   "execution_count": 4,
   "id": "05639065-bd6e-43d3-9521-1c794d5b96ab",
   "metadata": {},
   "outputs": [],
   "source": [
    "# 计数排序\n",
    "def CountingSort(a):\n",
    "    '''\n",
    "    计数排序（Counting Sort）是一种非比较型的排序算法，适用于对整数或有限范围内的数据进行排序。\n",
    "    它的核心思想是通过统计每个元素的出现次数，然后根据统计结果将元素放回正确的位置。\n",
    "    计数排序的时间复杂度为 O(n + k)，其中 n 是待排序元素的数量，k 是数据的范围大小。\n",
    "    计数排序的核心在于将输入的数据值转化为键存储在额外开辟的数组空间中。\n",
    "    作为一种线性时间复杂度的排序，计数排序要求输入的数据必须是有确定范围的整数。\n",
    "    '''\n",
    "    n = len(a)\n",
    "    cntlen = max(a)+1\n",
    "    cnt = [0] * cntlen\n",
    "    for val in a:\n",
    "        cnt[val] += 1\n",
    "    print(cnt)\n",
    "    n = 0\n",
    "    for val in range(0, cntlen):\n",
    "        while cnt[val] > 0:\n",
    "            cnt[val] -= 1\n",
    "            a[n] = val\n",
    "            n += 1"
   ]
  },
  {
   "cell_type": "code",
   "execution_count": 2,
   "id": "3073a7f2-1b21-473b-8e62-886ec364fe45",
   "metadata": {},
   "outputs": [
    {
     "name": "stdout",
     "output_type": "stream",
     "text": [
      "[90, 88, 17, 63, 0, 60, 68, 86, 38, 81, 87, 92, 60]\n"
     ]
    }
   ],
   "source": [
    "from random import randint\n",
    "a = []\n",
    "for i in range(randint(5, 15)):\n",
    "    a.append(randint(0, 100))\n",
    "print(a)"
   ]
  },
  {
   "cell_type": "code",
   "execution_count": 3,
   "id": "29f13d3b-6b4f-4ad0-9076-a970f3288bd9",
   "metadata": {},
   "outputs": [
    {
     "name": "stdout",
     "output_type": "stream",
     "text": [
      "[1, 0, 0, 0, 0, 0, 0, 0, 0, 0, 0, 0, 0, 0, 0, 0, 0, 1, 0, 0, 0, 0, 0, 0, 0, 0, 0, 0, 0, 0, 0, 0, 0, 0, 0, 0, 0, 0, 1, 0, 0, 0, 0, 0, 0, 0, 0, 0, 0, 0, 0, 0, 0, 0, 0, 0, 0, 0, 0, 0, 2, 0, 0, 1, 0, 0, 0, 0, 1, 0, 0, 0, 0, 0, 0, 0, 0, 0, 0, 0, 0, 1, 0, 0, 0, 0, 1, 1, 1, 0, 1, 0, 1]\n",
      "[0, 17, 38, 60, 60, 63, 68, 81, 86, 87, 88, 90, 92]\n"
     ]
    }
   ],
   "source": [
    "CountingSort(a)\n",
    "print(a)"
   ]
  },
  {
   "cell_type": "code",
   "execution_count": null,
   "id": "278f5ae7-8d59-4929-9271-95ed4519ad3b",
   "metadata": {},
   "outputs": [],
   "source": []
  }
 ],
 "metadata": {
  "kernelspec": {
   "display_name": "Python 3 (ipykernel)",
   "language": "python",
   "name": "python3"
  },
  "language_info": {
   "codemirror_mode": {
    "name": "ipython",
    "version": 3
   },
   "file_extension": ".py",
   "mimetype": "text/x-python",
   "name": "python",
   "nbconvert_exporter": "python",
   "pygments_lexer": "ipython3",
   "version": "3.10.11"
  }
 },
 "nbformat": 4,
 "nbformat_minor": 5
}
