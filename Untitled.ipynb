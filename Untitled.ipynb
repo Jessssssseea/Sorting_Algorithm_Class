{
 "cells": [
  {
   "cell_type": "code",
   "execution_count": 1,
   "id": "e15c3c27-f538-47cd-84c5-cf0993d1c889",
   "metadata": {},
   "outputs": [],
   "source": [
    "def partition(arr, low, high):\n",
    "    pivot = arr[low]  # 选择第一个元素作为基准\n",
    "    i = low - 1\n",
    "    j = high + 1\n",
    "    while True:\n",
    "        i += 1\n",
    "        while arr[i] < pivot:\n",
    "            i += 1\n",
    "        j -= 1\n",
    "        while arr[j] > pivot:\n",
    "            j -= 1\n",
    "        if i >= j:\n",
    "            return j\n",
    "        arr[i], arr[j] = arr[j], arr[i]"
   ]
  },
  {
   "cell_type": "code",
   "execution_count": 2,
   "id": "c09223d3-a2c1-4c2f-9f9a-1d7914738e6c",
   "metadata": {},
   "outputs": [],
   "source": [
    "def quick_sort(arr, low=0, high=None):\n",
    "    if high is None: high = len(arr) - 1\n",
    "    while low < high:                       # 尾递归优化\n",
    "        p = partition(arr, low, high)\n",
    "        if p - low < high - p:              # 先排短段\n",
    "            quick_sort(arr, low, p)\n",
    "            low = p + 1\n",
    "        else:\n",
    "            quick_sort(arr, p + 1, high)\n",
    "            high = p"
   ]
  },
  {
   "cell_type": "code",
   "execution_count": null,
   "id": "562776f7-dd1e-480e-a6cf-1b6770f0a5f0",
   "metadata": {},
   "outputs": [],
   "source": []
  }
 ],
 "metadata": {
  "kernelspec": {
   "display_name": "Python 3 (ipykernel)",
   "language": "python",
   "name": "python3"
  },
  "language_info": {
   "codemirror_mode": {
    "name": "ipython",
    "version": 3
   },
   "file_extension": ".py",
   "mimetype": "text/x-python",
   "name": "python",
   "nbconvert_exporter": "python",
   "pygments_lexer": "ipython3",
   "version": "3.11.6"
  }
 },
 "nbformat": 4,
 "nbformat_minor": 5
}
