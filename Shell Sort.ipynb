{
 "cells": [
  {
   "cell_type": "code",
   "execution_count": 1,
   "id": "8b9fdce0-0e71-427f-a86b-7a58ef85030e",
   "metadata": {},
   "outputs": [],
   "source": [
    "# 希尔排序\n",
    "def ShellSort(a):\n",
    "    '''\n",
    "    希尔排序（Shell Sort）是插入排序的一种改进版本，也称为缩小增量排序。\n",
    "    它通过将待排序的列表分成若干子列表，对每个子列表进行插入排序，逐步缩小子列表的间隔，最终完成。\n",
    "    希尔排序是基于插入排序的以下两点性质而提出改进方法的：\n",
    "        插入排序在对几乎已经排好序的数据操作时，效率高，即可以达到线性排序的效率。\n",
    "        但插入排序一般来说是低效的，因为插入排序每次只能将数据移动一位。\n",
    "    希尔排序的基本思想是：先将整个待排序的记录序列分割成为若干子序列分别进行直接插入排序，\n",
    "                        待整个序列中的记录\"基本有序\"时，再对全体记录进行依次直接插入排序。\n",
    "    '''\n",
    "    n = len(a)\n",
    "    gap = n // 2\n",
    "    while gap > 0:\n",
    "        for i in range(gap, n):\n",
    "            x = a[i]\n",
    "            j = i\n",
    "            while j >= gap:\n",
    "                if x < a[j-gap]:\n",
    "                    a[j] = a[j-gap]\n",
    "                else:\n",
    "                    break\n",
    "                j -= gap\n",
    "            a[j] = x\n",
    "        print(a)\n",
    "        gap = gap // 2"
   ]
  },
  {
   "cell_type": "code",
   "execution_count": 4,
   "id": "f578b4fe-3d93-42a0-92cb-c43323677b9b",
   "metadata": {},
   "outputs": [
    {
     "name": "stdout",
     "output_type": "stream",
     "text": [
      "[83, 77, 55, 99, 81, 50, 9, 85, 1, 59, 10, 0, 36, 23]\n"
     ]
    }
   ],
   "source": [
    "from random import randint\n",
    "a = []\n",
    "for i in range(randint(5, 15)):\n",
    "    a.append(randint(0, 100))\n",
    "print(a)"
   ]
  },
  {
   "cell_type": "code",
   "execution_count": 5,
   "id": "9954d4d2-94ba-48c8-b3db-51f39c553d5b",
   "metadata": {},
   "outputs": [
    {
     "name": "stdout",
     "output_type": "stream",
     "text": [
      "[83, 1, 55, 10, 0, 36, 9, 85, 77, 59, 99, 81, 50, 23]\n",
      "[9, 0, 36, 10, 1, 55, 50, 23, 77, 59, 85, 81, 83, 99]\n",
      "[0, 1, 9, 10, 23, 36, 50, 55, 59, 77, 81, 83, 85, 99]\n"
     ]
    }
   ],
   "source": [
    "ShellSort(a)"
   ]
  },
  {
   "cell_type": "code",
   "execution_count": null,
   "id": "25f29672-8766-40a4-9d63-6f827b5a02ae",
   "metadata": {},
   "outputs": [],
   "source": []
  }
 ],
 "metadata": {
  "kernelspec": {
   "display_name": "Python 3 (ipykernel)",
   "language": "python",
   "name": "python3"
  },
  "language_info": {
   "codemirror_mode": {
    "name": "ipython",
    "version": 3
   },
   "file_extension": ".py",
   "mimetype": "text/x-python",
   "name": "python",
   "nbconvert_exporter": "python",
   "pygments_lexer": "ipython3",
   "version": "3.11.6"
  }
 },
 "nbformat": 4,
 "nbformat_minor": 5
}
