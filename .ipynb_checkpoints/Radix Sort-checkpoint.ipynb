{
 "cells": [
  {
   "cell_type": "code",
   "execution_count": 9,
   "id": "a19a6323-af7d-49bc-a204-985dac95bca3",
   "metadata": {},
   "outputs": [],
   "source": [
    "# 基数排序\n",
    "def RadixSort(a):\n",
    "    '''\n",
    "    基数排序（Radix Sort）是一种非比较型的排序算法，它通过逐位比较元素的每一位（从最低位到最高位）来实现排序。\n",
    "    基数排序的核心思想是将整数按位数切割成不同的数字，然后按每个位数分别进行排序。基数排序的时间复杂度为 O(n * k)，其中 n 是列表长度，k 是最大数字的位数。\n",
    "    '''\n",
    "    base = 1\n",
    "    maxv = max(a)\n",
    "    while base < maxv:\n",
    "        bucket = []\n",
    "        for idx in range(10):\n",
    "            bucket.append([])\n",
    "        for num in a:\n",
    "            idx = num // base % 10\n",
    "            bucket[idx].append(num)\n",
    "        l = 0\n",
    "        for idx in range(10):\n",
    "            for v in bucket[idx]:\n",
    "                a[l] = v\n",
    "                l += 1\n",
    "        print(a)\n",
    "        base *= 10"
   ]
  },
  {
   "cell_type": "code",
   "execution_count": 7,
   "id": "99682229-45de-4667-9551-13a90b39ea8f",
   "metadata": {},
   "outputs": [
    {
     "name": "stdout",
     "output_type": "stream",
     "text": [
      "[80, 68, 67, 41, 63, 21, 45]\n"
     ]
    }
   ],
   "source": [
    "from random import randint\n",
    "a = []\n",
    "for i in range(randint(5, 15)):\n",
    "    a.append(randint(0, 100))\n",
    "print(a)"
   ]
  },
  {
   "cell_type": "code",
   "execution_count": 8,
   "id": "f675de27-b727-49cd-b7f5-35c3f8124e85",
   "metadata": {},
   "outputs": [
    {
     "name": "stdout",
     "output_type": "stream",
     "text": [
      "[80, 41, 21, 63, 45, 67, 68]\n",
      "[21, 41, 45, 63, 67, 68, 80]\n"
     ]
    }
   ],
   "source": [
    "RadixSort(a)"
   ]
  },
  {
   "cell_type": "code",
   "execution_count": null,
   "id": "65de23a2-26cf-4e70-b087-f8796e069a49",
   "metadata": {},
   "outputs": [],
   "source": []
  }
 ],
 "metadata": {
  "kernelspec": {
   "display_name": "Python 3 (ipykernel)",
   "language": "python",
   "name": "python3"
  },
  "language_info": {
   "codemirror_mode": {
    "name": "ipython",
    "version": 3
   },
   "file_extension": ".py",
   "mimetype": "text/x-python",
   "name": "python",
   "nbconvert_exporter": "python",
   "pygments_lexer": "ipython3",
   "version": "3.10.11"
  }
 },
 "nbformat": 4,
 "nbformat_minor": 5
}
