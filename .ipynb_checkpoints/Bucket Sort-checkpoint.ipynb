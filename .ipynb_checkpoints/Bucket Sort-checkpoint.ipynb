{
 "cells": [
  {
   "cell_type": "code",
   "execution_count": 9,
   "id": "06cc3adf-e196-4e75-b546-33d6dfde0d0f",
   "metadata": {},
   "outputs": [],
   "source": [
    "# 桶排序\n",
    "def SelectionSort(a):\n",
    "    '''\n",
    "    桶排序（Bucket Sort）是一种分布式排序算法。\n",
    "    它将待排序的元素分配到若干个桶（Bucket）中，然后对每个桶中的元素进行排序，最后将所有桶中的元素按顺序合并。\n",
    "    桶排序的核心思想是将数据分到有限数量的桶中，每个桶再分别排序（可以使用其他排序算法或递归地使用桶排序）。\n",
    "    桶排序是计数排序的升级版。\n",
    "    它利用了函数的映射关系，高效与否的关键就在于这个映射函数的确定。\n",
    "    为了使桶排序更加高效，我们需要做到这两点：\n",
    "        在额外空间充足的情况下，尽量增大桶的数量。\n",
    "        使用的映射函数能够将输入的 N 个数据均匀的分配到 K 个桶中。\n",
    "    同时，对于桶中元素的排序，选择何种比较排序算法对于性能的影响至关重要。\n",
    "    '''\n",
    "    n = len(a)\n",
    "    for i in range(0, n):\n",
    "        min = i\n",
    "        for j in range(i+1,n):\n",
    "            if a[j] < a[min]:\n",
    "                min = j\n",
    "        a[i], a[min] = a[min], a[i]"
   ]
  },
  {
   "cell_type": "code",
   "execution_count": 10,
   "id": "f3437654-d321-489d-b60a-ebc2c6585137",
   "metadata": {},
   "outputs": [],
   "source": [
    "def BucketSort(a):\n",
    "    minV = min(a)\n",
    "    maxV = max(a)\n",
    "    bucketCount = 3\n",
    "    bucket = [ [], [], [] ]\n",
    "    perBucket = (maxV - minV + bucketCount) // bucketCount\n",
    "\n",
    "    for num in a:\n",
    "        bucketIndex = (num - minV) // perBucket\n",
    "        bucket[bucketIndex].append( num )\n",
    "\n",
    "    for i in range(bucketCount):\n",
    "        SelectionSort(bucket[i])\n",
    "\n",
    "    idx = 0\n",
    "    for i in range(bucketCount):\n",
    "        for v in bucket[i]:\n",
    "            a[idx] = v\n",
    "            idx += 1\n",
    "    print(bucket)\n",
    "    print(a)"
   ]
  },
  {
   "cell_type": "code",
   "execution_count": 11,
   "id": "4dc6c863-464e-4d2f-b2eb-4fa5330ce70d",
   "metadata": {},
   "outputs": [
    {
     "name": "stdout",
     "output_type": "stream",
     "text": [
      "[47, 80, 98, 27, 37, 63]\n"
     ]
    }
   ],
   "source": [
    "from random import randint\n",
    "a = []\n",
    "for i in range(randint(5, 15)):\n",
    "    a.append(randint(0, 100))\n",
    "print(a)"
   ]
  },
  {
   "cell_type": "code",
   "execution_count": 12,
   "id": "28e4a5c0-c232-40bd-a510-b9d8da1ed9ae",
   "metadata": {},
   "outputs": [
    {
     "name": "stdout",
     "output_type": "stream",
     "text": [
      "[[27, 37, 47], [63], [80, 98]]\n",
      "[27, 37, 47, 63, 80, 98]\n"
     ]
    }
   ],
   "source": [
    "BucketSort(a)"
   ]
  },
  {
   "cell_type": "code",
   "execution_count": null,
   "id": "79a2cc0b-001a-428f-9761-a8f0694ce69c",
   "metadata": {},
   "outputs": [],
   "source": []
  }
 ],
 "metadata": {
  "kernelspec": {
   "display_name": "Python 3 (ipykernel)",
   "language": "python",
   "name": "python3"
  },
  "language_info": {
   "codemirror_mode": {
    "name": "ipython",
    "version": 3
   },
   "file_extension": ".py",
   "mimetype": "text/x-python",
   "name": "python",
   "nbconvert_exporter": "python",
   "pygments_lexer": "ipython3",
   "version": "3.10.11"
  }
 },
 "nbformat": 4,
 "nbformat_minor": 5
}
