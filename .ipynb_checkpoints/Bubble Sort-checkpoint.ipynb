{
 "cells": [
  {
   "cell_type": "code",
   "execution_count": 1,
   "id": "e2016304-521a-4c41-9d8c-293685887050",
   "metadata": {},
   "outputs": [],
   "source": [
    "# 冒泡排序\n",
    "def BubbleSort(a):\n",
    "    '''\n",
    "    冒泡排序（Bubble Sort）是一种简单的排序算法。\n",
    "    它通过重复地遍历待排序的列表，比较相邻的元素并交换它们的位置来实现排序。\n",
    "    该算法的名称来源于较小的元素会像\"气泡\"一样逐渐\"浮\"到列表的顶端。\n",
    "    '''\n",
    "    n = len(a)\n",
    "    for i in range(n-1, -1, -1):\n",
    "        for j in range(0, i):\n",
    "            if a[j] > a[j+1]:\n",
    "                a[j], a[j+1] = a[j+1], a[j]\n",
    "        print(a)"
   ]
  },
  {
   "cell_type": "code",
   "execution_count": 9,
   "id": "298d2834-9f7b-45e3-a9c3-101a7c176da8",
   "metadata": {},
   "outputs": [
    {
     "name": "stdout",
     "output_type": "stream",
     "text": [
      "[77, 30, 69, 45, 68, 3, 22, 60, 12, 60, 0, 4, 64, 62, 94]\n"
     ]
    }
   ],
   "source": [
    "from random import randint\n",
    "a = []\n",
    "for i in range(randint(5, 15)):\n",
    "    a.append(randint(0, 100))\n",
    "print(a)"
   ]
  },
  {
   "cell_type": "code",
   "execution_count": 10,
   "id": "275073c5-7d8b-4a15-8673-2045f67fa184",
   "metadata": {},
   "outputs": [
    {
     "name": "stdout",
     "output_type": "stream",
     "text": [
      "[30, 69, 45, 68, 3, 22, 60, 12, 60, 0, 4, 64, 62, 77, 94]\n",
      "[30, 45, 68, 3, 22, 60, 12, 60, 0, 4, 64, 62, 69, 77, 94]\n",
      "[30, 45, 3, 22, 60, 12, 60, 0, 4, 64, 62, 68, 69, 77, 94]\n",
      "[30, 3, 22, 45, 12, 60, 0, 4, 60, 62, 64, 68, 69, 77, 94]\n",
      "[3, 22, 30, 12, 45, 0, 4, 60, 60, 62, 64, 68, 69, 77, 94]\n",
      "[3, 22, 12, 30, 0, 4, 45, 60, 60, 62, 64, 68, 69, 77, 94]\n",
      "[3, 12, 22, 0, 4, 30, 45, 60, 60, 62, 64, 68, 69, 77, 94]\n",
      "[3, 12, 0, 4, 22, 30, 45, 60, 60, 62, 64, 68, 69, 77, 94]\n",
      "[3, 0, 4, 12, 22, 30, 45, 60, 60, 62, 64, 68, 69, 77, 94]\n",
      "[0, 3, 4, 12, 22, 30, 45, 60, 60, 62, 64, 68, 69, 77, 94]\n",
      "[0, 3, 4, 12, 22, 30, 45, 60, 60, 62, 64, 68, 69, 77, 94]\n",
      "[0, 3, 4, 12, 22, 30, 45, 60, 60, 62, 64, 68, 69, 77, 94]\n",
      "[0, 3, 4, 12, 22, 30, 45, 60, 60, 62, 64, 68, 69, 77, 94]\n",
      "[0, 3, 4, 12, 22, 30, 45, 60, 60, 62, 64, 68, 69, 77, 94]\n",
      "[0, 3, 4, 12, 22, 30, 45, 60, 60, 62, 64, 68, 69, 77, 94]\n"
     ]
    }
   ],
   "source": [
    "BubbleSort(a)"
   ]
  },
  {
   "cell_type": "code",
   "execution_count": null,
   "id": "04ac8033-6721-411b-8329-27783071eb37",
   "metadata": {},
   "outputs": [],
   "source": []
  }
 ],
 "metadata": {
  "kernelspec": {
   "display_name": "Python 3 (ipykernel)",
   "language": "python",
   "name": "python3"
  },
  "language_info": {
   "codemirror_mode": {
    "name": "ipython",
    "version": 3
   },
   "file_extension": ".py",
   "mimetype": "text/x-python",
   "name": "python",
   "nbconvert_exporter": "python",
   "pygments_lexer": "ipython3",
   "version": "3.10.11"
  }
 },
 "nbformat": 4,
 "nbformat_minor": 5
}
