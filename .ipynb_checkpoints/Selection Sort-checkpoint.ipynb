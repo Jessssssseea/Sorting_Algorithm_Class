{
 "cells": [
  {
   "cell_type": "code",
   "execution_count": 6,
   "id": "c4be08a0-add1-48e7-a21b-393970afab9c",
   "metadata": {},
   "outputs": [],
   "source": [
    "# 选择排序\n",
    "def SelectionSort(a):\n",
    "    '''\n",
    "    选择排序（Selection Sort）是一种简单直观的排序算法。\n",
    "    无论什么数据进去都是 O(n²) 的时间复杂度。\n",
    "    所以用到它的时候，数据规模越小越好。\n",
    "    唯一的好处可能就是不占用额外的内存空间了吧。\n",
    "    选择排序基本思想是每次从待排序的数据中选择最小的元素，放到已排序序列的末尾，直到全部数据排序完成。\n",
    "    '''\n",
    "    n = len(a)\n",
    "    for i in range(n-1):\n",
    "        min = i\n",
    "        for j in range(i+1, n):\n",
    "            if a[j] < a[min]:\n",
    "                min = j\n",
    "        a[i], a[min] = a[min], a[i]\n",
    "        print(a)"
   ]
  },
  {
   "cell_type": "code",
   "execution_count": 10,
   "id": "64b84468-e43e-4688-8755-9f7ed07a9732",
   "metadata": {},
   "outputs": [
    {
     "name": "stdout",
     "output_type": "stream",
     "text": [
      "[76, 89, 41, 52, 20, 17, 84, 29, 29, 57, 46, 93]\n"
     ]
    }
   ],
   "source": [
    "from random import randint\n",
    "a = []\n",
    "for i in range(randint(5, 15)):\n",
    "    a.append(randint(0, 100))\n",
    "print(a)"
   ]
  },
  {
   "cell_type": "code",
   "execution_count": 11,
   "id": "92485828-1a8f-4450-abb4-84f2f2671b12",
   "metadata": {
    "scrolled": true
   },
   "outputs": [
    {
     "name": "stdout",
     "output_type": "stream",
     "text": [
      "[17, 89, 41, 52, 20, 76, 84, 29, 29, 57, 46, 93]\n",
      "[17, 20, 41, 52, 89, 76, 84, 29, 29, 57, 46, 93]\n",
      "[17, 20, 29, 52, 89, 76, 84, 41, 29, 57, 46, 93]\n",
      "[17, 20, 29, 29, 89, 76, 84, 41, 52, 57, 46, 93]\n",
      "[17, 20, 29, 29, 41, 76, 84, 89, 52, 57, 46, 93]\n",
      "[17, 20, 29, 29, 41, 46, 84, 89, 52, 57, 76, 93]\n",
      "[17, 20, 29, 29, 41, 46, 52, 89, 84, 57, 76, 93]\n",
      "[17, 20, 29, 29, 41, 46, 52, 57, 84, 89, 76, 93]\n",
      "[17, 20, 29, 29, 41, 46, 52, 57, 76, 89, 84, 93]\n",
      "[17, 20, 29, 29, 41, 46, 52, 57, 76, 84, 89, 93]\n",
      "[17, 20, 29, 29, 41, 46, 52, 57, 76, 84, 89, 93]\n"
     ]
    }
   ],
   "source": [
    "SelectionSort(a)"
   ]
  },
  {
   "cell_type": "code",
   "execution_count": null,
   "id": "dfe4fff8-6e7e-49bb-8559-1f101b6c3e98",
   "metadata": {},
   "outputs": [],
   "source": []
  }
 ],
 "metadata": {
  "kernelspec": {
   "display_name": "Python 3 (ipykernel)",
   "language": "python",
   "name": "python3"
  },
  "language_info": {
   "codemirror_mode": {
    "name": "ipython",
    "version": 3
   },
   "file_extension": ".py",
   "mimetype": "text/x-python",
   "name": "python",
   "nbconvert_exporter": "python",
   "pygments_lexer": "ipython3",
   "version": "3.10.11"
  }
 },
 "nbformat": 4,
 "nbformat_minor": 5
}
