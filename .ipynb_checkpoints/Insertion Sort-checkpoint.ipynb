{
 "cells": [
  {
   "cell_type": "code",
   "execution_count": 4,
   "id": "896bf204-fb4a-4084-b9c6-9abfaa2c5be6",
   "metadata": {},
   "outputs": [],
   "source": [
    "# 插入排序\n",
    "def InsertionSort(a):\n",
    "    '''\n",
    "    插入排序（Insertion Sort）是一种简单直观的排序算法，它的工作原理类似于整理扑克牌。\n",
    "    插入排序通过构建有序序列，对于未排序的数据，在已排序序列中从后向前扫描，找到相应位置并插入。\n",
    "    插入排序的代码实现虽然没有冒泡排序和选择排序那么简单粗暴，但它的原理应该是最容易理解的了，因为只要打过扑克牌的人都应该能够秒懂。\n",
    "    插入排序和冒泡排序一样，也有一种优化算法，叫做拆半插入。\n",
    "    '''\n",
    "    n = len(a)\n",
    "    for i in range(1, n):\n",
    "        x = a[i]\n",
    "        j = i - 1\n",
    "        while j >= 0:\n",
    "            if x <= a[j]:\n",
    "                a[j+1] = a[j]\n",
    "                j -= 1\n",
    "            else:\n",
    "                break\n",
    "        a[j+1] = x\n",
    "        print(a)"
   ]
  },
  {
   "cell_type": "code",
   "execution_count": 5,
   "id": "e3cf1057-6946-444c-b947-0a9456e66ef8",
   "metadata": {},
   "outputs": [
    {
     "name": "stdout",
     "output_type": "stream",
     "text": [
      "[92, 45, 71, 10, 54, 94, 36, 14, 11, 12, 89, 92, 90]\n"
     ]
    }
   ],
   "source": [
    "from random import randint\n",
    "a = []\n",
    "for i in range(randint(5, 15)):\n",
    "    a.append(randint(0, 100))\n",
    "print(a)"
   ]
  },
  {
   "cell_type": "code",
   "execution_count": 6,
   "id": "1f1d7f09-2750-4105-92f2-0fea020667c3",
   "metadata": {},
   "outputs": [
    {
     "name": "stdout",
     "output_type": "stream",
     "text": [
      "[45, 92, 71, 10, 54, 94, 36, 14, 11, 12, 89, 92, 90]\n",
      "[45, 71, 92, 10, 54, 94, 36, 14, 11, 12, 89, 92, 90]\n",
      "[10, 45, 71, 92, 54, 94, 36, 14, 11, 12, 89, 92, 90]\n",
      "[10, 45, 54, 71, 92, 94, 36, 14, 11, 12, 89, 92, 90]\n",
      "[10, 45, 54, 71, 92, 94, 36, 14, 11, 12, 89, 92, 90]\n",
      "[10, 36, 45, 54, 71, 92, 94, 14, 11, 12, 89, 92, 90]\n",
      "[10, 14, 36, 45, 54, 71, 92, 94, 11, 12, 89, 92, 90]\n",
      "[10, 11, 14, 36, 45, 54, 71, 92, 94, 12, 89, 92, 90]\n",
      "[10, 11, 12, 14, 36, 45, 54, 71, 92, 94, 89, 92, 90]\n",
      "[10, 11, 12, 14, 36, 45, 54, 71, 89, 92, 94, 92, 90]\n",
      "[10, 11, 12, 14, 36, 45, 54, 71, 89, 92, 92, 94, 90]\n",
      "[10, 11, 12, 14, 36, 45, 54, 71, 89, 90, 92, 92, 94]\n"
     ]
    }
   ],
   "source": [
    "InsertionSort(a)"
   ]
  },
  {
   "cell_type": "code",
   "execution_count": null,
   "id": "ddd4e125-b671-4e3b-9ede-4e39d3765057",
   "metadata": {},
   "outputs": [],
   "source": []
  }
 ],
 "metadata": {
  "kernelspec": {
   "display_name": "Python 3 (ipykernel)",
   "language": "python",
   "name": "python3"
  },
  "language_info": {
   "codemirror_mode": {
    "name": "ipython",
    "version": 3
   },
   "file_extension": ".py",
   "mimetype": "text/x-python",
   "name": "python",
   "nbconvert_exporter": "python",
   "pygments_lexer": "ipython3",
   "version": "3.10.11"
  }
 },
 "nbformat": 4,
 "nbformat_minor": 5
}
