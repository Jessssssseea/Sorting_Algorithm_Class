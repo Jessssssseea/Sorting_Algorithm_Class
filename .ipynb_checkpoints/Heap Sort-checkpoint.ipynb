{
 "cells": [
  {
   "cell_type": "code",
   "execution_count": 1,
   "id": "0875817d-04a7-4d70-ac0e-6a597661fa85",
   "metadata": {},
   "outputs": [],
   "source": [
    "# 堆排序\n",
    "def maxHeapify(heap, start, end):\n",
    "    '''\n",
    "    桶排序（Bucket Sort）是一种分布式排序算法，它将待排序的元素分配到若干个桶（Bucket）中，然后对每个桶中的元素进行排序，最后将所有桶中的元素按顺序合并。\n",
    "    桶排序的核心思想是将数据分到有限数量的桶中，每个桶再分别排序（可以使用其他排序算法或递归地使用桶排序）。\n",
    "    桶排序是计数排序的升级版。它利用了函数的映射关系，高效与否的关键就在于这个映射函数的确定。\n",
    "    为了使桶排序更加高效，我们需要做到这两点：\n",
    "        在额外空间充足的情况下，尽量增大桶的数量。\n",
    "        使用的映射函数能够将输入的 N 个数据均匀的分配到 K 个桶中\n",
    "    同时，对于桶中元素的排序，选择何种比较排序算法对于性能的影响至关重要。\n",
    "    '''\n",
    "    son = start * 2\n",
    "    while son <= end:\n",
    "        if son+1 <= end and heap[son+1] > heap[son]:\n",
    "            son += 1\n",
    "        if heap[son] > heap[start]:\n",
    "            heap[start], heap[son] = heap[son], heap[start]\n",
    "            start, son = son, son*2\n",
    "        else:\n",
    "            break"
   ]
  },
  {
   "cell_type": "code",
   "execution_count": 2,
   "id": "6682fb13-fa6f-4061-9dd7-e20de8dd026e",
   "metadata": {},
   "outputs": [],
   "source": [
    "def HeapSort(a):\n",
    "    heap = [None] + a\n",
    "    root = 1\n",
    "    l = len(heap)\n",
    "    for i in range(1//2, root-1, -1):\n",
    "        maxHeapify(heap, i, l-1)\n",
    "    for i in range(l-1, root, -1):\n",
    "        heap[i], heap[root] = heap[root], heap[i]\n",
    "        maxHeapify(heap, root, i-1)\n",
    "    return heap[root:]"
   ]
  },
  {
   "cell_type": "code",
   "execution_count": 5,
   "id": "0fc18e44-ce3b-463e-bad3-7584fc8ca169",
   "metadata": {},
   "outputs": [
    {
     "name": "stdout",
     "output_type": "stream",
     "text": [
      "[94, 26, 76, 74, 59, 41, 84, 43, 37, 87, 91, 94, 1, 80, 41]\n"
     ]
    }
   ],
   "source": [
    "from random import randint\n",
    "a = []\n",
    "for i in range(randint(5, 15)):\n",
    "    a.append(randint(0, 100))\n",
    "print(a)"
   ]
  },
  {
   "cell_type": "code",
   "execution_count": 6,
   "id": "ecb85c2b-61db-473f-b364-c2ba8f830526",
   "metadata": {},
   "outputs": [
    {
     "name": "stdout",
     "output_type": "stream",
     "text": [
      "[1, 26, 74, 59, 37, 41, 43, 87, 91, 94, 41, 80, 84, 76, 94]\n"
     ]
    }
   ],
   "source": [
    "print(HeapSort(a))"
   ]
  },
  {
   "cell_type": "code",
   "execution_count": null,
   "id": "5d21b040-2144-454d-b845-c6bc875d501e",
   "metadata": {},
   "outputs": [],
   "source": []
  }
 ],
 "metadata": {
  "kernelspec": {
   "display_name": "Python 3 (ipykernel)",
   "language": "python",
   "name": "python3"
  },
  "language_info": {
   "codemirror_mode": {
    "name": "ipython",
    "version": 3
   },
   "file_extension": ".py",
   "mimetype": "text/x-python",
   "name": "python",
   "nbconvert_exporter": "python",
   "pygments_lexer": "ipython3",
   "version": "3.10.11"
  }
 },
 "nbformat": 4,
 "nbformat_minor": 5
}
