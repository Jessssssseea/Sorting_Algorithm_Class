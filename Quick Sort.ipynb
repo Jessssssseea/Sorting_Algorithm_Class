{
 "cells": [
  {
   "cell_type": "code",
   "execution_count": 1,
   "id": "bf20969b-200e-4766-964c-08ad04a99a44",
   "metadata": {},
   "outputs": [],
   "source": [
    "# 快速排序\n",
    "def QuickSortPivot(a, start, end):\n",
    "    '''\n",
    "    快速排序（Quick Sort）是一种高效的排序算法，基于分治法（Divide and Conquer）的思想。\n",
    "    它的核心是通过选择一个基准元素（pivot），将列表分为两部分：一部分小于基准元素，另一部分大于基准元素，然后递归地对这两部分进行排序。\n",
    "    快速排序的平均时间复杂度为 O(n log n)，在实际应用中性能优异。\n",
    "    快速排序是由东尼·霍尔所发展的一种排序算法。在平均状况下，排序 n 个项目要 Ο(nlogn) 次比较。\n",
    "    在最坏状况下则需要 Ο(n2) 次比较，但这种状况并不常见。\n",
    "    事实上，快速排序通常明显比其他 Ο(nlogn) 算法更快，因为它的内部循环（inner loop）可以在大部分的架构上很有效率地被实现出来。\n",
    "    快速排序使用分治法（Divide and conquer）策略来把一个串行（list）分为两个子串行（sub-lists）。\n",
    "    快速排序又是一种分而治之思想在排序算法上的典型应用。本质上来看，快速排序应该算是在冒泡排序基础上的递归分治法。\n",
    "    快速排序的名字起的是简单粗暴，因为一听到这个名字你就知道它存在的意义，就是快，而且效率高！它是处理大数据最快的排序算法之一了。\n",
    "    快速排序的最坏运行情况是 O(n²)，比如说顺序数列的快排。\n",
    "    但它的平摊期望时间是 O(nlogn)，且 O(nlogn) 记号中隐含的常数因子很小，比复杂度稳定等于 O(nlogn) 的归并排序要小很多。\n",
    "    所以，对绝大多数顺序性较弱的随机数列而言，快速排序总是优于归并排序。\n",
    "    '''\n",
    "    pivot = start\n",
    "    j = start + 1\n",
    "    for i in range(start+1, end+1):\n",
    "        if a[i] <= a[pivot]:\n",
    "            a[i], a[j] = a[j], a[i]\n",
    "            j += 1\n",
    "    a[pivot], a[j-1] = a[j-1], a[pivot]\n",
    "    pivot = j - 1\n",
    "    print(a[pivot], a[start:pivot], a[pivot+1:end+1])\n",
    "    return pivot"
   ]
  },
  {
   "cell_type": "code",
   "execution_count": 2,
   "id": "cf6c1777-a8f1-4863-b05d-37be7d5ab2df",
   "metadata": {},
   "outputs": [],
   "source": [
    "def QuickSort(a, start, end):\n",
    "    if start >= end:\n",
    "        return\n",
    "    pivot = QuickSortPivot(a, start, end)\n",
    "    QuickSort(a, start, pivot-1)\n",
    "    QuickSort(a, pivot+1, end)"
   ]
  },
  {
   "cell_type": "code",
   "execution_count": 6,
   "id": "aa8eb3f0-e32a-4954-85ea-7cf9c81ba2fb",
   "metadata": {},
   "outputs": [
    {
     "name": "stdout",
     "output_type": "stream",
     "text": [
      "[88, 42, 98, 76, 91, 30, 89, 35, 8, 66]\n"
     ]
    }
   ],
   "source": [
    "from random import randint\n",
    "a = []\n",
    "for i in range(randint(5, 15)):\n",
    "    a.append(randint(0, 100))\n",
    "print(a)"
   ]
  },
  {
   "cell_type": "code",
   "execution_count": 7,
   "id": "f3279938-b11c-4d41-b5b8-b16c9d6391e9",
   "metadata": {},
   "outputs": [
    {
     "name": "stdout",
     "output_type": "stream",
     "text": [
      "88 [66, 42, 76, 30, 35, 8] [91, 98, 89]\n",
      "66 [8, 42, 30, 35] [76]\n",
      "8 [] [42, 30, 35]\n",
      "42 [35, 30] []\n",
      "35 [30] []\n",
      "91 [89] [98]\n",
      "[8, 30, 35, 42, 66, 76, 88, 89, 91, 98]\n"
     ]
    }
   ],
   "source": [
    "QuickSort(a, 0, len(a)-1)\n",
    "print(a)"
   ]
  },
  {
   "cell_type": "code",
   "execution_count": null,
   "id": "2c3e3032-44ea-4e14-9701-5ffd2818a9ea",
   "metadata": {},
   "outputs": [],
   "source": []
  }
 ],
 "metadata": {
  "kernelspec": {
   "display_name": "Python 3 (ipykernel)",
   "language": "python",
   "name": "python3"
  },
  "language_info": {
   "codemirror_mode": {
    "name": "ipython",
    "version": 3
   },
   "file_extension": ".py",
   "mimetype": "text/x-python",
   "name": "python",
   "nbconvert_exporter": "python",
   "pygments_lexer": "ipython3",
   "version": "3.10.11"
  }
 },
 "nbformat": 4,
 "nbformat_minor": 5
}
