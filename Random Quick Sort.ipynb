{
 "cells": [
  {
   "cell_type": "code",
   "execution_count": 2,
   "id": "aae208c2-b6e1-4ce8-b22e-c20f492f916e",
   "metadata": {},
   "outputs": [],
   "source": [
    "# 随机快速排序\n",
    "import random"
   ]
  },
  {
   "cell_type": "code",
   "execution_count": 12,
   "id": "d3e8ee63-cefc-43aa-9fc4-3a150bc7b300",
   "metadata": {},
   "outputs": [],
   "source": [
    "def RandomQuickSortPivot(a, start, end):\n",
    "    '''\n",
    "    随机快速排序是快速排序的一个变种，它通过随机选择基准数（pivot）来避免最坏情况的出现，从而提高算法的性能。\n",
    "    '''\n",
    "    randIdx = random.randint(start, end)\n",
    "    a[start], a[randIdx] = a[randIdx], a[start]\n",
    "    pivot = start\n",
    "    j = start + 1\n",
    "    for i in range(start+1, end+1):\n",
    "        if a[i] <= a[pivot]:\n",
    "            a[i], a[j] = a[j], a[i]\n",
    "            j += 1\n",
    "    a[pivot], a[j-1] = a[j-1], a[pivot]\n",
    "    pivot = j - 1\n",
    "    print(a[pivot], a[start:pivot], a[pivot+1:end+1])\n",
    "    return pivot"
   ]
  },
  {
   "cell_type": "code",
   "execution_count": 9,
   "id": "437ca62e-a126-4a61-b4a4-511acb121a54",
   "metadata": {},
   "outputs": [],
   "source": [
    "def RandomQuickSort(a, start, end):\n",
    "    if start >= end:\n",
    "        return\n",
    "    pivot = RandomQuickSortPivot(a, start, end)\n",
    "    RandomQuickSort(a, start, pivot-1)\n",
    "    RandomQuickSort(a, pivot+1, end)"
   ]
  },
  {
   "cell_type": "code",
   "execution_count": 10,
   "id": "416cbb2a-7b63-40dc-8b06-eda6a6607ed7",
   "metadata": {},
   "outputs": [
    {
     "name": "stdout",
     "output_type": "stream",
     "text": [
      "[93, 24, 70, 73, 81, 30, 23, 19, 77, 81, 25, 79, 98, 4, 61]\n"
     ]
    }
   ],
   "source": [
    "from random import randint\n",
    "a = []\n",
    "for i in range(randint(5, 15)):\n",
    "    a.append(randint(0, 100))\n",
    "print(a)"
   ]
  },
  {
   "cell_type": "code",
   "execution_count": 11,
   "id": "17c33b26-1980-4c11-b7d3-aa99b0659363",
   "metadata": {},
   "outputs": [
    {
     "name": "stdout",
     "output_type": "stream",
     "text": [
      "81 [61, 24, 70, 73, 30, 23, 19, 77, 81, 25, 79, 4] [93, 98]\n",
      "19 [4] [70, 73, 30, 23, 61, 77, 81, 25, 79, 24]\n",
      "30 [24, 23, 25] [61, 77, 81, 70, 79, 73]\n",
      "23 [] [24, 25]\n",
      "25 [24] []\n",
      "79 [73, 77, 70, 61] [81]\n",
      "61 [] [77, 70, 73]\n",
      "70 [] [77, 73]\n",
      "77 [73] []\n",
      "93 [] [98]\n",
      "[4, 19, 23, 24, 25, 30, 61, 70, 73, 77, 79, 81, 81, 93, 98]\n"
     ]
    }
   ],
   "source": [
    "RandomQuickSort(a, 0, len(a)-1)\n",
    "print(a)"
   ]
  },
  {
   "cell_type": "code",
   "execution_count": null,
   "id": "8469d797-b7f2-407d-801b-25e154f29daf",
   "metadata": {},
   "outputs": [],
   "source": []
  }
 ],
 "metadata": {
  "kernelspec": {
   "display_name": "Python 3 (ipykernel)",
   "language": "python",
   "name": "python3"
  },
  "language_info": {
   "codemirror_mode": {
    "name": "ipython",
    "version": 3
   },
   "file_extension": ".py",
   "mimetype": "text/x-python",
   "name": "python",
   "nbconvert_exporter": "python",
   "pygments_lexer": "ipython3",
   "version": "3.10.11"
  }
 },
 "nbformat": 4,
 "nbformat_minor": 5
}
