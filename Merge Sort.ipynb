{
 "cells": [
  {
   "cell_type": "code",
   "execution_count": 2,
   "id": "13f702df-8e7c-4378-a5cf-7da8c5e85307",
   "metadata": {},
   "outputs": [],
   "source": [
    "# 归并排序\n",
    "def Merge(a, start, mid, end):\n",
    "    '''\n",
    "    归并排序（Merge sort）是建立在归并操作上的一种有效的排序算法。该算法是采用分治法（Divide and Conquer）的一个非常典型的应用。\n",
    "    归并排序的核心思想是将一个大问题分解成若干个小问题，分别解决这些小问题，然后将结果合并起来，最终得到整个问题的解。\n",
    "    具体到排序问题，归并排序的步骤如下：\n",
    "        分解（Divide）：将待排序的数组分成两个子数组，每个子数组包含大约一半的元素。\n",
    "        解决（Conquer）：递归地对每个子数组进行排序。\n",
    "        合并（Combine）：将两个已排序的子数组合并成一个有序的数组。\n",
    "    通过不断地分解和合并，最终整个数组将被排序。\n",
    "    '''\n",
    "    tmp = []\n",
    "    l = start\n",
    "    r = mid+1\n",
    "    while l <= mid and r <= end:\n",
    "        if a[l] <= a[r]:\n",
    "            tmp.append(a[l])\n",
    "            l += 1\n",
    "        else:\n",
    "            tmp.append(a[r])\n",
    "            r += 1\n",
    "    tmp.extend(a[l:mid+1])\n",
    "    tmp.extend(a[r:end+1])\n",
    "    for i in range(start, end+1):\n",
    "        a[i] = tmp[i-start]\n",
    "    print(start, end, tmp)"
   ]
  },
  {
   "cell_type": "code",
   "execution_count": 4,
   "id": "9ee0e9e6-e355-4b9b-bb9e-d77893c987ec",
   "metadata": {},
   "outputs": [],
   "source": [
    "def MergeSort(a, start, end):\n",
    "    if start == end:\n",
    "        return\n",
    "    mid = (start + end) // 2\n",
    "    MergeSort(a, start, mid)\n",
    "    MergeSort(a, mid+1, end)\n",
    "    Merge(a, start, mid, end)"
   ]
  },
  {
   "cell_type": "code",
   "execution_count": 8,
   "id": "6357e484-f15a-4508-ba5a-d9a39be48d2d",
   "metadata": {},
   "outputs": [
    {
     "name": "stdout",
     "output_type": "stream",
     "text": [
      "[99, 36, 30, 7, 23, 85, 19]\n"
     ]
    }
   ],
   "source": [
    "from random import randint\n",
    "a = []\n",
    "for i in range(randint(5, 15)):\n",
    "    a.append(randint(0, 100))\n",
    "print(a)"
   ]
  },
  {
   "cell_type": "code",
   "execution_count": 9,
   "id": "a8710a27-a1d7-4cf0-b3b9-88e4426e9446",
   "metadata": {},
   "outputs": [
    {
     "name": "stdout",
     "output_type": "stream",
     "text": [
      "0 1 [36, 99]\n",
      "2 3 [7, 30]\n",
      "0 3 [7, 30, 36, 99]\n",
      "4 5 [23, 85]\n",
      "4 6 [19, 23, 85]\n",
      "0 6 [7, 19, 23, 30, 36, 85, 99]\n"
     ]
    }
   ],
   "source": [
    "MergeSort(a, 0, len(a)-1)"
   ]
  },
  {
   "cell_type": "code",
   "execution_count": null,
   "id": "97d0a203-82a5-4067-9775-37002caa9dcd",
   "metadata": {},
   "outputs": [],
   "source": []
  }
 ],
 "metadata": {
  "kernelspec": {
   "display_name": "Python 3 (ipykernel)",
   "language": "python",
   "name": "python3"
  },
  "language_info": {
   "codemirror_mode": {
    "name": "ipython",
    "version": 3
   },
   "file_extension": ".py",
   "mimetype": "text/x-python",
   "name": "python",
   "nbconvert_exporter": "python",
   "pygments_lexer": "ipython3",
   "version": "3.11.6"
  }
 },
 "nbformat": 4,
 "nbformat_minor": 5
}
